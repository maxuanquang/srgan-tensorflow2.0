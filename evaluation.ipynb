{
 "cells": [
  {
   "cell_type": "code",
   "execution_count": 90,
   "metadata": {},
   "outputs": [],
   "source": [
    "import cv2\n",
    "import numpy as np\n",
    "from skimage.metrics import structural_similarity as SSIM\n",
    "from skimage.metrics import peak_signal_noise_ratio as PSNR\n",
    "from imutils.paths import list_images\n",
    "import imutils\n",
    "import cv2\n",
    "import tensorlayer as tl\n",
    "import os\n",
    "from model import get_G, get_D"
   ]
  },
  {
   "cell_type": "code",
   "execution_count": 91,
   "metadata": {},
   "outputs": [],
   "source": [
    "def load_dataset(path):\n",
    "    img_list = list(list_images(path))\n",
    "    imgs = tl.vis.read_images(img_list,printable=False,n_threads=32)\n",
    "    return imgs"
   ]
  },
  {
   "cell_type": "code",
   "execution_count": 131,
   "metadata": {},
   "outputs": [],
   "source": [
    "def compute_score(path_ori, path_sr):\n",
    "    ori_imgs = load_dataset(path_ori)\n",
    "    sr_imgs = load_dataset(path_sr)\n",
    "    PSNR_scores = []\n",
    "    SSIM_scores = []\n",
    "    for ori_img,sr_img in zip(ori_imgs,sr_imgs):\n",
    "        print(ori_img.shape) # height width\n",
    "        print(sr_img.shape)\n",
    "        height, width = ori_img.shape[:2]\n",
    "        if height%4 != 0:\n",
    "            height = height-height%4\n",
    "        if width%4 != 0:\n",
    "            width = width-width%4\n",
    "        ori_img=ori_img[:height,:width]\n",
    "        PSNR_scores.append(PSNR(ori_img,sr_img))\n",
    "        SSIM_scores.append(SSIM(ori_img,sr_img, multichannel=True))\n",
    "    mean_PSNR_score = np.mean(np.array(PSNR_scores))\n",
    "    mean_SSIM_score = np.mean(np.array(SSIM_scores))\n",
    "    return mean_PSNR_score, mean_SSIM_score"
   ]
  },
  {
   "cell_type": "code",
   "execution_count": 101,
   "metadata": {},
   "outputs": [],
   "source": [
    "def gen_sr():    \n",
    "    set5_lr_img_list = list(list_images('archive/Set5_lr'))\n",
    "    set14_lr_img_list = list(list_images('archive/Set14_lr'))\n",
    "    set5_lr_imgs = tl.vis.read_images(set5_lr_img_list, n_threads=32)\n",
    "    set14_lr_imgs = tl.vis.read_images(set14_lr_img_list, n_threads=32)\n",
    "\n",
    "    name5 = [os.path.split(path)[-1] for path in set5_lr_img_list]\n",
    "    name14 = [os.path.split(path)[-1] for path in set14_lr_img_list]\n",
    "\n",
    "    ###========================== DEFINE MODEL ============================###\n",
    "    temp5 = []\n",
    "    temp14 = []\n",
    "    for img in set5_lr_imgs:\n",
    "        normal_img = img/127.5 - 1.\n",
    "        temp5.append(normal_img)\n",
    "    for img in set14_lr_imgs:\n",
    "        normal_img = img/127.5 - 1.\n",
    "        temp14.append(normal_img)\n",
    "\n",
    "    G = get_G([None, None, 3])\n",
    "    G.load_weights('models/g_20.h5')\n",
    "\n",
    "    for img,name in zip(temp5,name5):\n",
    "        img = img[np.newaxis,:,:,:]\n",
    "        out = G(img).numpy()\n",
    "        tl.vis.save_image(out[0], os.path.join('archive/Set5_sr', name))\n",
    "    for img,name in zip(temp14,name14):\n",
    "        img = img[np.newaxis,:,:,:]\n",
    "        out = G(img).numpy()\n",
    "        tl.vis.save_image(out[0], os.path.join('archive/Set14_sr', name))"
   ]
  },
  {
   "cell_type": "code",
   "execution_count": 99,
   "metadata": {},
   "outputs": [],
   "source": [
    "# path_ori = 'archive/Set5'\n",
    "# path_lr = 'archive/Set5_lr'\n",
    "# path_bicubic = 'archive/Set5_bicubic'\n",
    "# img_list = list(list_images(path_ori))\n",
    "# for path in img_list:\n",
    "#     img = cv2.imread(path)\n",
    "#     width = img.shape[1]\n",
    "#     name = os.path.split(path)[-1]\n",
    "    \n",
    "#     img_lr = imutils.resize(img,width=width//4)\n",
    "#     img_bicubic = imutils.resize(img_lr,width=width)\n",
    "\n",
    "#     new_path_lr = path_lr + '/' + name\n",
    "#     new_path_bicubic = path_bicubic + '/' + name\n",
    "#     cv2.imwrite(new_path_lr, img_lr)\n",
    "#     cv2.imwrite(new_path_bicubic, img_bicubic)    "
   ]
  },
  {
   "cell_type": "code",
   "execution_count": 128,
   "metadata": {},
   "outputs": [],
   "source": [
    "path_ori = 'archive/Set14'\n",
    "path_lr = 'archive/Set14_lr'\n",
    "path_bicubic = 'archive/Set14_bicubic'\n",
    "img_list = list(list_images(path_ori))\n",
    "for path in img_list:\n",
    "    img = cv2.imread(path)\n",
    "    height, width = img.shape[:2]\n",
    "    if height%4 != 0:\n",
    "        height = height-height%4\n",
    "    if width%4 != 0:\n",
    "        width = width-width%4\n",
    "    img=img[:height,:width]\n",
    "    width = img.shape[1]\n",
    "    name = os.path.split(path)[-1]\n",
    "    \n",
    "    img_lr = imutils.resize(img,width=width//4)\n",
    "    img_bicubic = imutils.resize(img_lr,width=width)\n",
    "\n",
    "    new_path_lr = path_lr + '/' + name\n",
    "    new_path_bicubic = path_bicubic + '/' + name\n",
    "    cv2.imwrite(new_path_lr, img_lr)\n",
    "    cv2.imwrite(new_path_bicubic, img_bicubic)    "
   ]
  },
  {
   "cell_type": "code",
   "execution_count": 126,
   "metadata": {},
   "outputs": [],
   "source": [
    "x = np.ones((301,401,3))"
   ]
  },
  {
   "cell_type": "code",
   "execution_count": null,
   "metadata": {},
   "outputs": [],
   "source": [
    "height,width = x.shape[:2]"
   ]
  },
  {
   "cell_type": "code",
   "execution_count": 127,
   "metadata": {},
   "outputs": [
    {
     "data": {
      "text/plain": [
       "(300, 401)"
      ]
     },
     "execution_count": 127,
     "metadata": {},
     "output_type": "execute_result"
    }
   ],
   "source": [
    "x = x[:300,:]\n",
    "x.shape"
   ]
  },
  {
   "cell_type": "code",
   "execution_count": 121,
   "metadata": {},
   "outputs": [
    {
     "name": "stderr",
     "output_type": "stream",
     "text": [
      "usage: ipykernel_launcher.py [-h] [-hr HIGH_RESO] [-sr SUPER_RESO]\n",
      "ipykernel_launcher.py: error: unrecognized arguments: -f C:\\Users\\quangmx\\AppData\\Roaming\\jupyter\\runtime\\kernel-b4aac030-14e8-486a-88cd-646af7e88a83.json\n"
     ]
    },
    {
     "ename": "SystemExit",
     "evalue": "2",
     "output_type": "error",
     "traceback": [
      "An exception has occurred, use %tb to see the full traceback.\n",
      "\u001b[1;31mSystemExit\u001b[0m\u001b[1;31m:\u001b[0m 2\n"
     ]
    }
   ],
   "source": [
    "if __name__ == '__main__':\n",
    "    import argparse\n",
    "    ap = argparse.ArgumentParser()\n",
    "    ap.add_argument(\"-hr\", \"--high-reso\", type=str, default='archive/Set5', help=\"path to high resolution images directory\")\n",
    "    ap.add_argument(\"-sr\", \"--super-reso\", type=str, default='archive/Set5_sr', help=\"path to super resolution images directory\")\n",
    "\n",
    "    args = vars(ap.parse_args())\n",
    "\n",
    "    PSNR_score, SSIM_score = compute_score(args['high_reso'], args['super_reso'])\n",
    "    print('PSNR_score = ',PSNR_score)\n",
    "    print('SSIM_score = ',SSIM_score)    "
   ]
  },
  {
   "cell_type": "code",
   "execution_count": 129,
   "metadata": {},
   "outputs": [
    {
     "name": "stdout",
     "output_type": "stream",
     "text": [
      "[TL] read 5 from \n",
      "[TL] read 14 from \n",
      "WARNING:tensorflow:Layer conv2d_703 is casting an input tensor from dtype float64 to the layer's dtype of float32, which is new behavior in TensorFlow 2.  The layer has dtype float32 because it's dtype defaults to floatx.\n",
      "\n",
      "If you intended to run this layer in float32, you can safely ignore this warning. If in doubt, this warning is likely only an issue if you are porting a TensorFlow 1.X model to TensorFlow 2.\n",
      "\n",
      "To change all layers to have dtype float64 by default, call `tf.keras.backend.set_floatx('float64')`. To change just this layer, pass dtype='float64' to the layer constructor. If you are the author of this layer, you can disable autocasting by passing autocast=False to the base Layer constructor.\n",
      "\n"
     ]
    },
    {
     "name": "stderr",
     "output_type": "stream",
     "text": [
      "Lossy conversion from float32 to uint8. Range [-0.9677249789237976, 0.9679699540138245]. Convert image to uint8 prior to saving to suppress this warning.\n",
      "Lossy conversion from float32 to uint8. Range [-0.9692542552947998, 0.9245551824569702]. Convert image to uint8 prior to saving to suppress this warning.\n",
      "Lossy conversion from float32 to uint8. Range [-0.8928486704826355, 0.843512237071991]. Convert image to uint8 prior to saving to suppress this warning.\n",
      "Lossy conversion from float32 to uint8. Range [-0.9645062685012817, 0.9503329992294312]. Convert image to uint8 prior to saving to suppress this warning.\n",
      "Lossy conversion from float32 to uint8. Range [-0.9612782597541809, 0.9301753044128418]. Convert image to uint8 prior to saving to suppress this warning.\n",
      "Lossy conversion from float32 to uint8. Range [-0.9459552764892578, 0.937342643737793]. Convert image to uint8 prior to saving to suppress this warning.\n",
      "Lossy conversion from float32 to uint8. Range [-0.9412535429000854, 0.9213317632675171]. Convert image to uint8 prior to saving to suppress this warning.\n",
      "Lossy conversion from float32 to uint8. Range [-0.967477560043335, 0.9410049915313721]. Convert image to uint8 prior to saving to suppress this warning.\n",
      "Lossy conversion from float32 to uint8. Range [-0.9523598551750183, 0.9387328624725342]. Convert image to uint8 prior to saving to suppress this warning.\n",
      "Lossy conversion from float32 to uint8. Range [-0.9299918413162231, 0.961576521396637]. Convert image to uint8 prior to saving to suppress this warning.\n",
      "Lossy conversion from float32 to uint8. Range [-0.9655636548995972, 0.9504792094230652]. Convert image to uint8 prior to saving to suppress this warning.\n",
      "Lossy conversion from float32 to uint8. Range [-0.972476065158844, 0.9731161594390869]. Convert image to uint8 prior to saving to suppress this warning.\n",
      "Lossy conversion from float32 to uint8. Range [-0.8363600373268127, 0.9732447862625122]. Convert image to uint8 prior to saving to suppress this warning.\n",
      "Lossy conversion from float32 to uint8. Range [-0.9025728106498718, 0.9171389937400818]. Convert image to uint8 prior to saving to suppress this warning.\n",
      "Lossy conversion from float32 to uint8. Range [-0.9741040468215942, 0.7836160659790039]. Convert image to uint8 prior to saving to suppress this warning.\n",
      "Lossy conversion from float32 to uint8. Range [-0.8860998153686523, 0.8701608180999756]. Convert image to uint8 prior to saving to suppress this warning.\n",
      "Lossy conversion from float32 to uint8. Range [-0.973063051700592, 0.8238154649734497]. Convert image to uint8 prior to saving to suppress this warning.\n",
      "Lossy conversion from float32 to uint8. Range [-0.9858272075653076, 0.9783803224563599]. Convert image to uint8 prior to saving to suppress this warning.\n",
      "Lossy conversion from float32 to uint8. Range [-0.9733543395996094, 0.9474225044250488]. Convert image to uint8 prior to saving to suppress this warning.\n"
     ]
    }
   ],
   "source": [
    "gen_sr()"
   ]
  },
  {
   "cell_type": "code",
   "execution_count": 133,
   "metadata": {},
   "outputs": [
    {
     "name": "stdout",
     "output_type": "stream",
     "text": [
      "(512, 512, 3)\n",
      "(512, 512, 3)\n",
      "(288, 288, 3)\n",
      "(288, 288, 3)\n",
      "(256, 256, 3)\n",
      "(256, 256, 3)\n",
      "(280, 280, 3)\n",
      "(280, 280, 3)\n",
      "(344, 228, 3)\n",
      "(344, 228, 3)\n",
      "Set5 PSNR_score =  26.423144211802004\n",
      "Set5 SSIM_score =  0.7920979810592456\n",
      "(480, 500, 3)\n",
      "(480, 500, 3)\n",
      "(576, 720, 3)\n",
      "(576, 720, 3)\n",
      "(512, 512, 3)\n",
      "(512, 512, 3)\n",
      "(288, 352, 3)\n",
      "(288, 352, 3)\n",
      "(361, 250, 3)\n",
      "(360, 248, 3)\n",
      "(276, 276, 3)\n",
      "(276, 276, 3)\n",
      "(362, 500, 3)\n",
      "(360, 500, 3)\n",
      "(288, 352, 3)\n",
      "(288, 352, 3)\n",
      "(512, 512, 3)\n",
      "(512, 512, 3)\n",
      "(512, 512, 3)\n",
      "(512, 512, 3)\n",
      "(512, 768, 3)\n",
      "(512, 768, 3)\n",
      "(512, 512, 3)\n",
      "(512, 512, 3)\n",
      "(656, 529, 3)\n",
      "(656, 528, 3)\n",
      "(391, 586, 3)\n",
      "(388, 584, 3)\n",
      "Set14 PSNR_score =  23.691334195431107\n",
      "Set14 SSIM_score =  0.688402740312762\n"
     ]
    }
   ],
   "source": [
    "PSNR_score, SSIM_score = compute_score('archive/Set5', 'archive/Set5_sr')\n",
    "print('Set5 PSNR_score = ',PSNR_score)\n",
    "print('Set5 SSIM_score = ',SSIM_score)\n",
    "\n",
    "PSNR_score, SSIM_score = compute_score('archive/Set14', 'archive/Set14_sr')\n",
    "print('Set14 PSNR_score = ',PSNR_score)\n",
    "print('Set14 SSIM_score = ',SSIM_score)   "
   ]
  },
  {
   "cell_type": "code",
   "execution_count": null,
   "metadata": {},
   "outputs": [],
   "source": [
    "with open('g_losses.txt') as f:\n",
    "    lines = [line.rstrip() for line in f]\n",
    "lines=np.asarray(lines,dtype=np.float)\n",
    "i = np.asarray(list(range(1,lines.shape[0]+1)))\n",
    "\n",
    "import matplotlib.pyplot as plt\n",
    "plt.plot(i,lines)"
   ]
  }
 ],
 "metadata": {
  "kernelspec": {
   "display_name": "Python 3",
   "language": "python",
   "name": "python3"
  },
  "language_info": {
   "codemirror_mode": {
    "name": "ipython",
    "version": 3
   },
   "file_extension": ".py",
   "mimetype": "text/x-python",
   "name": "python",
   "nbconvert_exporter": "python",
   "pygments_lexer": "ipython3",
   "version": "3.7.9"
  }
 },
 "nbformat": 4,
 "nbformat_minor": 4
}
